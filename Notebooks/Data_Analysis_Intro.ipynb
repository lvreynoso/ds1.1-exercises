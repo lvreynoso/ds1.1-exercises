{
 "cells": [
  {
   "cell_type": "markdown",
   "metadata": {},
   "source": [
    "## What is Exploratory Data Analysis (EDA)?\n",
    "\n",
    "- Refers to the critical process of performing initial investigations on data so as to discover patterns,to spot anomalies,to test hypothesis and to check assumptions with the help of summary statistics and graphical representations\n",
    "\n",
    "- EDA has three components:\n",
    "\n",
    "    - Data analysis. Example: the telecom churn dataset is given, we want to obtain what is the percentage of loyal and non-loyal customers, which state has the highest churn customers, What is the maximum length of international calls among loyal users (Churn == 0) who do not have an international plan?\n",
    "    \n",
    "    - Data analysis and visualization. Normally comparison by plotting the result whichis easier for human than reading raw numbers\n",
    "    \n",
    "    - Statistical analysis on the data. Example: the titanic dataset is given, at specific \"Embark\" what is the distibution of male passengers over all age (were they mainly young, middle age or old)"
   ]
  },
  {
   "cell_type": "markdown",
   "metadata": {},
   "source": [
    "### What software we need for EDA?\n",
    "\n",
    "- As for now, you’ll only need Anaconda (built with Python 3.6)\n",
    "\n",
    "- After installing Anaconda, we mainly use:\n",
    "\n",
    "    - `pandas`, which is a Python library that provides extensive means for data analysis\n",
    "    \n",
    "    - `matplotlib` and seaborn, for data visualization\n",
    "    \n",
    "    - `scipy` and `statsmodel` for statistical data analysis"
   ]
  },
  {
   "cell_type": "markdown",
   "metadata": {},
   "source": [
    "## Who make more money (Salary) for DS in London?\n",
    "\n",
    "- Scrape Indeed API for all junior/senior positions for Data Engineer, Data Analyst and Data Scientist \n",
    "\n",
    "- Represent the salaries in Cumulative Density Function (CDF)\n",
    "\n",
    "<img src=\"Images/DE_DA_DS.png\" width=\"500\" height=\"500\">\n",
    "\n",
    "- https://dashee87.github.io/data%20science/r/Engineering-Data-Engineers/\n",
    "\n"
   ]
  },
  {
   "cell_type": "code",
   "execution_count": null,
   "metadata": {},
   "outputs": [],
   "source": []
  }
 ],
 "metadata": {
  "kernelspec": {
   "display_name": "Python 3",
   "language": "python",
   "name": "python3"
  },
  "language_info": {
   "codemirror_mode": {
    "name": "ipython",
    "version": 3
   },
   "file_extension": ".py",
   "mimetype": "text/x-python",
   "name": "python",
   "nbconvert_exporter": "python",
   "pygments_lexer": "ipython3",
   "version": "3.6.5"
  }
 },
 "nbformat": 4,
 "nbformat_minor": 2
}
